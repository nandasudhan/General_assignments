{
 "cells": [
  {
   "cell_type": "markdown",
   "id": "eecfddae",
   "metadata": {},
   "source": [
    "1. Why will you prefer python over other programming languages ? Explain\n",
    "\n",
    "python is easy to understand, resembling the English language more than other languages.\n",
    "python makes it easier for beginners like me to learn and helps to read and write code quickly.\n",
    "python language can be used for wide range of applications like machine learning, data analysis, AI and more"
   ]
  },
  {
   "cell_type": "markdown",
   "id": "b3503e2f",
   "metadata": {},
   "source": [
    "2. Write a Python code to swap two numbers without using a temporary variable."
   ]
  },
  {
   "cell_type": "code",
   "execution_count": 6,
   "id": "ed4c3799",
   "metadata": {
    "scrolled": true
   },
   "outputs": [
    {
     "name": "stdout",
     "output_type": "stream",
     "text": [
      "enter the value of a 5\n",
      "enter the value of b 6\n",
      "before swapping=  5 6\n",
      "after swapping=  6 5\n"
     ]
    }
   ],
   "source": [
    "a= int(input(\"enter the value of a \"))\n",
    "b = int(input(\"enter the value of b \"))\n",
    "print (\"before swapping= \",a,b)\n",
    "a = a+b\n",
    "b = a-b\n",
    "a=a-b\n",
    "print(\"after swapping= \",a,b)"
   ]
  },
  {
   "cell_type": "markdown",
   "id": "63d927ea",
   "metadata": {},
   "source": [
    "3. Explain the difference between '==' and 'is' in Python.\n",
    "\"==\" is equity operator compares the value of two objects. it returns \"True\" if the values of the two operands are the same and \"False\" otherwise.\n",
    "\n",
    "ex=\n",
    "\n",
    "a= [1,2,3,4]\n",
    "\n",
    "b=[1,2,3,4]\n",
    "\n",
    "print(a ==b)\n",
    "\n",
    "output = True\n",
    "\n",
    "\n",
    "\n",
    "\"IS\" is identity operator which checks whether two variables refers to same object in memory.\n",
    "\n",
    "it returns \"True\" if the operands refer to the same object in memory, and \"False\" otherwise. it checks the identity of the objects, that is whether they are located at the same memory location.\n",
    "\n",
    "ex=\n",
    "\n",
    "a=[1,2,3,4]\n",
    "\n",
    "b=a\n",
    "\n",
    "print(a is b)\n",
    "\n",
    "output =True"
   ]
  },
  {
   "cell_type": "markdown",
   "id": "56f083bc",
   "metadata": {},
   "source": [
    "4. What are the different data types in Python?\n",
    "int = integer numbers \n",
    "float = floating point numbers\n",
    "str = string of characters\n",
    "list = collection of mutable items\n",
    "tuple = collection of immutable item\n",
    "dict = collection of key-value pair\n",
    "set = collection of unique items\n",
    "bool = boolean values\n",
    "none = null value"
   ]
  },
  {
   "cell_type": "markdown",
   "id": "4fd90c11",
   "metadata": {},
   "source": [
    "5. How do you handle exceptions in Python? Provide an example.\n",
    "in python, we can handle exception by using a \"try\" and \"except\". In the \"try\" block, we place the code that might raise an exception. if an exception occurs with in this block, python searches for an appropriate \"except\" block to handle it. if the exception matches the type specified in an except block, the code inside that \"except\" block is executed.\n",
    "\n",
    "ex:\n",
    "\n",
    "try:\n",
    "\n",
    "num1 = int(input(\"enter a number: \"))\n",
    "\n",
    "num2 = int(input(\"enter a number= \"))\n",
    "\n",
    "result = num1/num2\n",
    "\n",
    "print(\"result: \" result)\n",
    "\n",
    "\n",
    "\n",
    "except ZeroDivisionError:\n",
    "\n",
    "print(\"Error: cannot divide by zero\")\n",
    "\n",
    "except ValueError:\n",
    "\n",
    "  print(\"Error: Please enter valid integers!\")\n",
    "\n",
    "except Exception as e:\n",
    "\n",
    "  print(\"An unexpected error occurred:\", e)"
   ]
  },
  {
   "cell_type": "markdown",
   "id": "8f552df1",
   "metadata": {},
   "source": [
    "6. Explain the use of lambda functions in Python with an example.\n",
    "lambda functions is also known as anonymous function which are small, inline function that can have any number of parameters but only one expression. lambda function typically used when we need a simple function for a short period of time.\n",
    "\n",
    "\n",
    "\n",
    "square = lambda x: x * x\n",
    "\n",
    "result = square(4)\n",
    "\n",
    "print(\"Square of 4:\", result)\n",
    "\n",
    "\n",
    "\n",
    "output = square of 4:16\n",
    "\n"
   ]
  },
  {
   "cell_type": "markdown",
   "id": "4a71f3e7",
   "metadata": {},
   "source": [
    "7.Write a Python function to check if a given number is a prime number.\n",
    "def is_prime(number):\n",
    "\n",
    "   Prime numbers are greater than 1\n",
    "\n",
    "  if number <= 1:\n",
    "\n",
    "    return False\n",
    "\n",
    "   \n",
    "\n",
    "  for i in range(2, int(number ** 0.5) + 1):\n",
    "\n",
    "    if number % i == 0:\n",
    "\n",
    "      return False\n",
    "\n",
    "   \n",
    "\n",
    "  return True\n",
    "\n",
    "\n",
    "\n",
    " Example usage\n",
    "\n",
    "num = 17\n",
    "\n",
    "if is_prime(num):\n",
    "\n",
    "  print(num, \"is a prime number\")\n",
    "\n",
    "else:\n",
    "\n",
    "  print(num, \"is not a prime number\")\n",
    "\n",
    "\n",
    "\n",
    "result: 17 is a prime number"
   ]
  },
  {
   "cell_type": "markdown",
   "id": "b610a916",
   "metadata": {},
   "source": [
    "8. Explain the concept of list comprehension in Python with an example.\n",
    "List comprehension is a concise way of creating lists in Python by applying an expression to each item in an iterable such as a list, tuple, or range and optionally including a condition to filter the items. It provides a more readable and compact alternative to traditional loops for creating lists.\n",
    "\n",
    "\n",
    "\n",
    "numbers = [1, 2, 3, 4, 5]\n",
    "\n",
    "squared_numbers = [num ** 2 for num in numbers]\n",
    "\n",
    "print(squared_numbers)\n",
    "\n",
    "\n",
    "\n",
    "result:[1, 4, 9, 16, 25]"
   ]
  },
  {
   "cell_type": "markdown",
   "id": "85161bfe",
   "metadata": {},
   "source": [
    "9. What is the purpose of 'self' in Python class method?\n",
    "In python, self is a convention used within class methods to refer to the instance of the class itself. It's the first parameter of any instance method in a class and represents the instance on which the method is called. The purpose of self is to access and modify attributes and methods of the current instance within the class. When you call a method on an instance of a class, Python automatically passes the instance itself as the first argument to the method. By convention, this parameter is named self, although you can name it differently if you prefer (though it's not recommended for readability and conventionality reasons)."
   ]
  },
  {
   "cell_type": "markdown",
   "id": "1a921bf7",
   "metadata": {},
   "source": [
    "10. Explain the difference between 'append' and 'extend' methods in Python lists.\n",
    "append method: the append method is used to add a single element to end of a list. it takes exactly one arguments which can be any valid python object.\n",
    "\n",
    "\n",
    "\n",
    "extend method: the extend method is used to add multiple elements to the end of a list. it takes an iterable such as a list, tuple or string as its arguments."
   ]
  },
  {
   "cell_type": "code",
   "execution_count": null,
   "id": "cde2ab66",
   "metadata": {},
   "outputs": [],
   "source": []
  }
 ],
 "metadata": {
  "kernelspec": {
   "display_name": "Python 3 (ipykernel)",
   "language": "python",
   "name": "python3"
  },
  "language_info": {
   "codemirror_mode": {
    "name": "ipython",
    "version": 3
   },
   "file_extension": ".py",
   "mimetype": "text/x-python",
   "name": "python",
   "nbconvert_exporter": "python",
   "pygments_lexer": "ipython3",
   "version": "3.9.13"
  }
 },
 "nbformat": 4,
 "nbformat_minor": 5
}
